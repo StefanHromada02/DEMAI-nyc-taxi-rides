{
 "cells": [
  {
   "cell_type": "markdown",
   "id": "be8aa11b-4bec-43b5-bedd-7f0bd1672a07",
   "metadata": {},
   "source": [
    "# DEMAI Projekt: NYC TLC Trip Record Data\n",
    "\n",
    "## Projektteilnehmer: \n",
    "- Roman Reiter\n",
    "- Angelo Ottendorfer\n",
    "- Stefan Hromada\n",
    "- Reichl Erich\n",
    "\n",
    "### [Datenquelle: NYC TLC Trip Record Data](https://www.nyc.gov/site/tlc/about/tlc-trip-record-data.page)\n",
    "\n",
    "### [Beschreibung Tabellen features](https://www.nyc.gov/assets/tlc/downloads/pdf/data_dictionary_trip_records_yellow.pdf)\n"
   ]
  },
  {
   "cell_type": "markdown",
   "id": "e0c3794a-5ab7-40fb-bea9-22ba3b7ff625",
   "metadata": {},
   "source": [
    "## Requirements:\n",
    "### Projektumwelt: \n",
    "- Kunden\n",
    "- Taxifahrer\n",
    "- Taxiunternehmer (auch uber und co.)\n",
    "- Gemeinde\n",
    "\n",
    "## Funktionale Anforderungen:\n",
    "- Datenbeschaffung: Das System soll in der Lage sein mit Kafka die Daten aus dem Datensatz in simulierter Echtzeit übertragen.\n",
    "- Datenaufnahme: Das System muss in der Lage sein, die Taxidatensätze mit Spark in Echtzeit zu verarbeiten.\n",
    "- Datenverarbeitung: Das System muss in der Lage sein die Daten die Daten dahingehend zu transformieren, dass die Trip-Dauer der einzelnen Fahrten berechnet wird und das Trinkgeld im Verhältnis zum Gesamtbetrag berechnet wird.\n",
    "- Das System soll in der Lage sein Datensättze mit ungültigen Werten zu filtern.\n",
    "- Datenspeicherung: Die verarbeiteten Daten müssen in einer Datenbank gespeichert werden.\n",
    "- Analyse: Das System muss in der Lage sein die verschiedenen Metriken zu berechnen und anzuzeigen.\n",
    "- Visualisierung: Die Ergebnisse der Analyse müssen falls vorgegeben mit streamlit visualisiert werden.\n",
    "\n",
    "## Nicht-funktionale Anforderungen:\n",
    "- Als Taxiunternehmen möchte ich die Anzahl der Taxifahrten pro Stunde einsehen können.\n",
    "- Als Taxiunternehmen möchte ich den durchschnittlichen Preis pro Fahrt einsehen können.\n",
    "- Als Taxiunternehmen möchte ich die durchschnittliche Fahrtdauer einsehen können.\n",
    "- Als Taxiunternehmen möchte ich die Verteilung der Bezahlungsmethoden visualisiert dargestellt einsehen können.\n",
    "- Als Taxifahrer möchte ich das durchschnittliche Trinkgeld in Prozent einsehen können.\n",
    "- Als Gemeinde möchte ich einen generellen Überblick über die insgesamte befahrung von Taxis bestimmter Stadtbereiche einsehen können.\n",
    "\n"
   ]
  },
  {
   "cell_type": "code",
   "execution_count": null,
   "id": "358c1d85-cca0-403e-bc30-2930bd4fef0b",
   "metadata": {},
   "outputs": [],
   "source": []
  }
 ],
 "metadata": {
  "kernelspec": {
   "display_name": "Python 3 (ipykernel)",
   "language": "python",
   "name": "python3"
  },
  "language_info": {
   "codemirror_mode": {
    "name": "ipython",
    "version": 3
   },
   "file_extension": ".py",
   "mimetype": "text/x-python",
   "name": "python",
   "nbconvert_exporter": "python",
   "pygments_lexer": "ipython3",
   "version": "3.9.1"
  }
 },
 "nbformat": 4,
 "nbformat_minor": 5
}
