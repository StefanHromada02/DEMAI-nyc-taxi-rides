{
 "cells": [
  {
   "cell_type": "markdown",
   "id": "be8aa11b-4bec-43b5-bedd-7f0bd1672a07",
   "metadata": {},
   "source": [
    "# DEMAI Projekt: NYC TLC Trip Record Data\n",
    "\n",
    "## Projektteilnehmer: \n",
    "- Roman Reiter\n",
    "- Angelo Ottendorfer\n",
    "- Stefan Hromada\n",
    "- Reichl Erich\n",
    "\n",
    "### [Datenquelle: NYC TLC Trip Record Data](https://www.nyc.gov/site/tlc/about/tlc-trip-record-data.page)\n",
    "\n",
    "### [Beschreibung Tabellen features](https://www.nyc.gov/assets/tlc/downloads/pdf/data_dictionary_trip_records_yellow.pdf)\n"
   ]
  },
  {
   "cell_type": "code",
   "execution_count": null,
   "id": "e0c3794a-5ab7-40fb-bea9-22ba3b7ff625",
   "metadata": {
    "vscode": {
     "languageId": "plaintext"
    }
   },
   "outputs": [],
   "source": [
    "## Requirements:\n",
    "### Projektumwelt: \n",
    "- Kunden\n",
    "- Taxifahrer\n",
    "- Taxiunternehmer (auch uber und co.)\n",
    "- Gemeinde\n",
    "\n",
    "## Funktionale Anforderungen:\n",
    "- Datenbeschaffung: Das System soll in der Lage sein mit Kafka die Daten aus dem Datensatz in simulierter Echtzeit übertragen.\n",
    "- Datenaufnahme: Das System muss in der Lage sein, die Taxidatensätze mit Spark in Echtzeit zu verarbeiten.\n",
    "- Datenverarbeitung: Das System muss in der Lage sein die Daten die Daten dahingehend zu transformieren, dass die Trip-Dauer der einzelnen Fahrten berechnet wird und das Trinkgeld im Verhältnis zum Gesamtbetrag berechnet wird.\n",
    "- Das System soll in der Lage sein Datensättze mit ungültigen Werten zu filtern.\n",
    "- Datenspeicherung: Die verarbeiteten Daten müssen in einer Datenbank gespeichert werden.\n",
    "- Analyse: Das System muss in der Lage sein die verschiedenen Metriken zu berechnen und anzuzeigen.\n",
    "- Visualisierung: Die Ergebnisse der Analyse müssen falls vorgegeben mit streamlit visualisiert werden.\n",
    "\n",
    "## Nicht-funktionale Anforderungen:\n",
    "- Leistung: Das System muss eine stündliche Verarbeitung der bereitgestellten Daten zu Taxifahrten gewährleisten.\n",
    "- Robustheit: Das System muss auch bei Vorhandensein von großen Datenmengen keine hohen Latenzzeit bezüglich Auslesen und Anzeigen der Datensätze beanspruchen.\n",
    "- Skalierbarkeit: Das System muss skalierbar sein, damit die Datenbank auch große Datenmengen verarbeiten und anzeigen kann.\n",
    "- Ausgeglichenheit: Das System muss ein balanciertes Datenverhältnis aufweisen, damit keine auffälligen Ausreißer entstehen, die die Datenanalyse beeinträchtigen könnten.\n",
    "- Konsistenz: Die Daten im System dürfen nicht von den Verarbeitungsprozessen negativ beeinflusst werden.\n",
    "- Vollständigkeit und Richtigkeit: Die Daten im System müssen vollständig und korrekt vorhanden sein, damit die Datenbank als vertrauenswürdig klassifiziert werden kann.\n",
    "\n",
    "## User Stories: \n",
    "- Als Taxiunternehmen möchte ich die Anzahl der Taxifahrten pro Stunde einsehen können, um Stoßzeiten zu identifizieren und meine Fahrer besser einzuplanen.\n",
    "- Als Taxiunternehmen möchte ich den durchschnittlichen Preis pro Fahrt einsehen können, um die Rentabilität der Fahrten zu bewerten und meine Tarife anzupassen.\n",
    "- Als Taxiunternehmen möchte ich die durchschnittliche Fahrtdauer einsehen können, um die Effizienz der Fahrten zu analysieren und mögliche Optimierungen vorzunehmen.\n",
    "- Als Taxiunternehmen möchte ich einen Bericht über die Anzahl transportierter Personen in den einzelnen Stadtgebieten erhalten, um die Fahrzeugbereitschaft besser planen zu können.\n",
    "- Als Taxiunternehmen möchte ich die Verteilung der Bezahlungsmethoden visualisiert dargestellt einsehen können, um Trends bei Zahlungsmitteln zu erkennen und meine Zahlungsoptionen gezielt anzupassen.\n",
    "- Als Taxiunternehmen möchte ich die häufigsten Start- und Zielorte von Fahrten einsehen können, um beliebte Routen zu erkennen und mein Angebot daran anzupassen.\n",
    "- Als Taxiunternehmen möchte ich die Auslastung meiner Fahrzeuge pro Tag und Stunde einsehen können, um meine Flotte effizienter zu steuern.\n",
    "- Als Taxiunternehmen möchte ich die Anzahl der Fahrten pro Fahrer auswerten können, um Leistung und Einsatzplanung besser zu überwachen.\n",
    "- Als Taxiunternehmen möchte ich den Anteil leerer Rückfahrten (ohne Passagiere) einsehen können, um unnötige Kosten zu vermeiden.\n",
    "\n",
    "- Als Taxifahrer möchte ich das durchschnittliche Trinkgeld in Prozent einsehen können, um meinen persönlichen Service einschätzen und verbessern zu können.\n",
    "\n",
    "- Als Gemeinde möchte ich die Anzahl der Taxis pro Gebiet zu verschiedenen Tageszeiten einsehen können, um Verkehrsaufkommen und Umweltbelastung besser einschätzen zu können.\n",
    "- Als Gemeinde möchte ich die durchschnittliche Wartezeit für Fahrgäste pro Stadtgebiet sehen können, um die Versorgung der Bevölkerung mit Taxis zu bewerten."
   ]
  },
  {
   "cell_type": "code",
   "execution_count": null,
   "id": "358c1d85-cca0-403e-bc30-2930bd4fef0b",
   "metadata": {},
   "outputs": [],
   "source": []
  }
 ],
 "metadata": {
  "kernelspec": {
   "display_name": "Python 3 (ipykernel)",
   "language": "python",
   "name": "python3"
  },
  "language_info": {
   "codemirror_mode": {
    "name": "ipython",
    "version": 3
   },
   "file_extension": ".py",
   "mimetype": "text/x-python",
   "name": "python",
   "nbconvert_exporter": "python",
   "pygments_lexer": "ipython3",
   "version": "3.9.1"
  }
 },
 "nbformat": 4,
 "nbformat_minor": 5
}
